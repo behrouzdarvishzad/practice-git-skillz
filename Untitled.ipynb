{
 "cells": [
  {
   "cell_type": "markdown",
   "id": "a83087fe-43ec-43d9-b148-870b90fe25b2",
   "metadata": {},
   "source": [
    "# New Git Practice Notebook\n",
    "This notebook was created to practice adding new files to Git.\n"
   ]
  },
  {
   "cell_type": "code",
   "execution_count": null,
   "id": "b38e0911-e42b-4f14-b471-b21e0a1e990d",
   "metadata": {},
   "outputs": [],
   "source": []
  }
 ],
 "metadata": {
  "kernelspec": {
   "display_name": "Python 3 (ipykernel)",
   "language": "python",
   "name": "python3"
  },
  "language_info": {
   "codemirror_mode": {
    "name": "ipython",
    "version": 3
   },
   "file_extension": ".py",
   "mimetype": "text/x-python",
   "name": "python",
   "nbconvert_exporter": "python",
   "pygments_lexer": "ipython3",
   "version": "3.11.13"
  }
 },
 "nbformat": 4,
 "nbformat_minor": 5
}
